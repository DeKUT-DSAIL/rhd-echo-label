{
 "cells": [
  {
   "cell_type": "code",
   "execution_count": 1,
   "id": "northern-speaker",
   "metadata": {},
   "outputs": [],
   "source": [
    "from google.cloud import storage\n",
    "import google.cloud.storage\n",
    "import os\n",
    "import sys\n",
    "\n",
    "#get the list of images from google cloud storage\n",
    "os.environ['GOOGLE_APPLICATION_CREDENTIALS'] = 'rhd-imaging-325212-89c18efb8640.json' #the json key is generated from the IAM service account\n",
    "\n",
    "storage_client = storage.Client()\n",
    "\n",
    "\n",
    "#create an empty list\n",
    "imageslist = []\n",
    "\"\"\"Lists all the blobs in the bucket.\"\"\"\n",
    "bucket_name = \"rhd_imaging_data\"\n",
    "\n",
    "# Note: Client.list_blobs requires at least package version 1.17.0.\n",
    "blobs = storage_client.list_blobs(bucket_name)\n",
    "\n",
    "for blob in blobs:\n",
    "    imageslist.append(blob.name)\n",
    "    #print(blob.name)\n",
    "\n"
   ]
  },
  {
   "cell_type": "code",
   "execution_count": 3,
   "id": "opened-paraguay",
   "metadata": {},
   "outputs": [
    {
     "data": {
      "text/plain": [
       "1792"
      ]
     },
     "execution_count": 3,
     "metadata": {},
     "output_type": "execute_result"
    }
   ],
   "source": [
    "len(imageslist)"
   ]
  },
  {
   "cell_type": "code",
   "execution_count": 5,
   "id": "alpha-demonstration",
   "metadata": {},
   "outputs": [
    {
     "data": {
      "text/plain": [
       "'10.33.51 hrs __[0005900].jpeg'"
      ]
     },
     "execution_count": 5,
     "metadata": {},
     "output_type": "execute_result"
    }
   ],
   "source": [
    "x = 1\n",
    "imageslist[x]"
   ]
  },
  {
   "cell_type": "code",
   "execution_count": 8,
   "id": "ambient-campus",
   "metadata": {},
   "outputs": [],
   "source": [
    "bucket = storage_client.bucket('rhd_imaging_data')\n",
    "blob = bucket.blob('10.33.51 hrs __[0005900].jpeg')\n",
    "url_lifetime = 3600\n",
    "\n",
    "serving_url = blob.generate_signed_url(url_lifetime)"
   ]
  },
  {
   "cell_type": "code",
   "execution_count": null,
   "id": "enormous-induction",
   "metadata": {},
   "outputs": [],
   "source": []
  }
 ],
 "metadata": {
  "kernelspec": {
   "display_name": "Python 3",
   "language": "python",
   "name": "python3"
  },
  "language_info": {
   "codemirror_mode": {
    "name": "ipython",
    "version": 3
   },
   "file_extension": ".py",
   "mimetype": "text/x-python",
   "name": "python",
   "nbconvert_exporter": "python",
   "pygments_lexer": "ipython3",
   "version": "3.8.8"
  }
 },
 "nbformat": 4,
 "nbformat_minor": 5
}
