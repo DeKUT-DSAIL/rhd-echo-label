{
 "cells": [
  {
   "cell_type": "code",
   "execution_count": 29,
   "id": "severe-comedy",
   "metadata": {
    "scrolled": true
   },
   "outputs": [],
   "source": [
    "import cv2\n",
    "import numpy as np\n",
    "\n",
    "pos = []\n",
    "global pts1\n",
    "def mouse_drawing(event, x, y, flags, params):\n",
    "    if event == cv2.EVENT_LBUTTONDOWN:\n",
    "        circles.append((x, y))\n",
    "        pos.append([x, y])\n",
    "        print(pos)\n",
    "\n",
    "\n",
    "def draw ():\n",
    "    pts1 = np.float32([pos[0], pos[1], pos[2], pos[3]])\n",
    "    pts2 = np.float32([[0, 0], [576, 0], [0, 704], [576, 704]])\n",
    "    matrix = cv2.getPerspectiveTransform(pts1, pts2)\n",
    "    result = cv2.warpPerspective(frame, matrix, (576, 704))\n",
    "    cv2.imshow(\"pres\", result)\n",
    "\n",
    "\n",
    "cap = cv2.VideoCapture('C:/Users/user/Desktop/Validation-App/assets/static/10.33.21 hrs __[0005899].mp4')\n",
    "\n",
    "cv2.namedWindow(\"Frame\")\n",
    "cv2.setMouseCallback(\"Frame\", mouse_drawing)\n",
    "circles = []\n",
    "#camera_matrix = np.eye(3, 3, 0, float, 'F')\n",
    "#dist_coeffi = np.zeros((1,5), float, 'F')\n",
    "camera_matrix = np.array([[594.42385933,  0, 278.82680292],\n",
    "                           [ 0, 409.03779744, 364.68900831],\n",
    "                            [ 0, 0, 1]], dtype='float64')\n",
    "dist_coeffi = np.array([-0.21770742, 0.01302767, 0.00908937, 0.00659773, 0.04729608], dtype='float64')\n",
    "\n",
    "\n",
    "\n",
    "_, frame = cap.read()\n",
    "h, w = frame.shape[:2]\n",
    "frame = cv2.undistort(frame, camera_matrix, dist_coeffi, None, None)\n",
    "for center_position in circles:\n",
    "    cv2.circle(frame, center_position, 5, (0, 0, 255), -1)\n",
    "\n",
    "cv2.imshow(\"Frame\", frame)\n",
    "\n",
    "\n",
    "if len(pos) == 4:\n",
    "    draw()\n",
    "\n",
    "    cv2.waitKey(1)\n",
    "\n",
    "cap.release()\n",
    "cv2.destroyAllWindows()"
   ]
  },
  {
   "cell_type": "code",
   "execution_count": null,
   "id": "coupled-situation",
   "metadata": {},
   "outputs": [],
   "source": []
  }
 ],
 "metadata": {
  "kernelspec": {
   "display_name": "Python 3",
   "language": "python",
   "name": "python3"
  },
  "language_info": {
   "codemirror_mode": {
    "name": "ipython",
    "version": 3
   },
   "file_extension": ".py",
   "mimetype": "text/x-python",
   "name": "python",
   "nbconvert_exporter": "python",
   "pygments_lexer": "ipython3",
   "version": "3.8.8"
  }
 },
 "nbformat": 4,
 "nbformat_minor": 5
}
