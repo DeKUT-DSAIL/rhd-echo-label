{
 "cells": [
  {
   "cell_type": "code",
   "execution_count": 31,
   "id": "developed-somerset",
   "metadata": {},
   "outputs": [
    {
     "name": "stdout",
     "output_type": "stream",
     "text": [
      "['assets\\\\static/10.33.21 hrs __[0005899].mp4', 'assets\\\\static/10.33.51 hrs __[0005900].jpeg', 'assets\\\\static/10.35.17 hrs __[0005901].jpeg', 'assets\\\\static/10.37.20 hrs __[0005902].jpeg', 'assets\\\\static/10.38.47 hrs __[0005903].jpeg', 'assets\\\\static/10.39.07 hrs __[0005904].mp4', 'assets\\\\static/10.39.22 hrs __[0005905].mp4', 'assets\\\\static/10.40.10 hrs __[0005906].jpeg', 'assets\\\\static/10.40.15 hrs __[0005907].mp4', 'assets\\\\static/10.40.31 hrs __[0005908].mp4']\n"
     ]
    }
   ],
   "source": [
    "import os\n",
    "import pathlib\n",
    "\n",
    "#define path\n",
    "path = pathlib.Path('./assets/static')\n",
    "#string path to be appended as part of image #relative path.\n",
    "pathstr = str(path)\n",
    "#create empty list\n",
    "fileslist = [] \n",
    "\n",
    "#create list of images in path given\n",
    "with os.scandir(path) as listOfEntries:\n",
    "    for entry in listOfEntries:\n",
    "        #print all entries that are files.\n",
    "        if entry.is_file():\n",
    "            fileslist.append(pathstr + '/' +entry.name)\n",
    "            #print(entry.name)\n",
    "#sort list alphanumerically\n",
    "fileslist.sort()\n",
    "print(fileslist)\n"
   ]
  },
  {
   "cell_type": "code",
   "execution_count": 12,
   "id": "solved-clearance",
   "metadata": {},
   "outputs": [],
   "source": []
  },
  {
   "cell_type": "code",
   "execution_count": 24,
   "id": "spread-formation",
   "metadata": {},
   "outputs": [],
   "source": [
    "import pandas as pd\n",
    "\n",
    "df = pd.read_csv('RHD.csv', encoding='utf-8')\n",
    "\n",
    "add = []\n",
    "\n",
    "for index, row in df.iterrows():\n",
    "    add.append((row['FILENAME'],' ',',',' ',row['VIEW'],' ',',',' ', row['COLOUR']))"
   ]
  },
  {
   "cell_type": "code",
   "execution_count": 25,
   "id": "based-detective",
   "metadata": {},
   "outputs": [
    {
     "data": {
      "text/plain": [
       "('10.33.21 hrs __[0005899].mp4',\n",
       " ' ',\n",
       " ',',\n",
       " ' ',\n",
       " 'PLAX',\n",
       " ' ',\n",
       " ',',\n",
       " ' ',\n",
       " 'No Colour')"
      ]
     },
     "execution_count": 25,
     "metadata": {},
     "output_type": "execute_result"
    }
   ],
   "source": [
    "add[0]"
   ]
  },
  {
   "cell_type": "code",
   "execution_count": 39,
   "id": "educated-configuration",
   "metadata": {},
   "outputs": [],
   "source": [
    "x = 0\n",
    "num_images = len(add) \n",
    "    \n",
    "annotation_state = add.index(add[0])"
   ]
  },
  {
   "cell_type": "code",
   "execution_count": 40,
   "id": "restricted-corner",
   "metadata": {},
   "outputs": [
    {
     "data": {
      "text/plain": [
       "0"
      ]
     },
     "execution_count": 40,
     "metadata": {},
     "output_type": "execute_result"
    }
   ],
   "source": [
    "annotation_state"
   ]
  },
  {
   "cell_type": "code",
   "execution_count": null,
   "id": "hourly-error",
   "metadata": {},
   "outputs": [],
   "source": []
  }
 ],
 "metadata": {
  "kernelspec": {
   "display_name": "Python 3",
   "language": "python",
   "name": "python3"
  },
  "language_info": {
   "codemirror_mode": {
    "name": "ipython",
    "version": 3
   },
   "file_extension": ".py",
   "mimetype": "text/x-python",
   "name": "python",
   "nbconvert_exporter": "python",
   "pygments_lexer": "ipython3",
   "version": "3.8.8"
  }
 },
 "nbformat": 4,
 "nbformat_minor": 5
}
