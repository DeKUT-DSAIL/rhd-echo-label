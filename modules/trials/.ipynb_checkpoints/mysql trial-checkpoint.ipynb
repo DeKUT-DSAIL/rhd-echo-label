{
 "cells": [
  {
   "cell_type": "code",
   "execution_count": 89,
   "id": "instrumental-hearts",
   "metadata": {},
   "outputs": [
    {
     "name": "stdout",
     "output_type": "stream",
     "text": [
      "Creating table testing1: already exists.\n"
     ]
    }
   ],
   "source": [
    "import mysql\n",
    "import mysql.connector\n",
    "from mysql.connector import errorcode\n",
    "import time\n",
    "from datetime import datetime\n",
    "\n",
    "\n",
    "database = {'user' : 'user',\n",
    "            'host' : '127.0.0.1',\n",
    "            'port' : '3306', \n",
    "            'database' : 'testdb', \n",
    "            'password' : 'dsail2021'\n",
    "           }\n",
    "\n",
    "DB_NAME = 'testdb'\n",
    "\n",
    "conn = mysql.connector.connect(**database)\n",
    "cursor = conn.cursor()\n",
    "\n",
    "\n",
    "#connect to database\n",
    "def create_connection(conn):\n",
    "    try:\n",
    "        conn = mysql.connector.connect(**database)\n",
    "    except mysql.connector.Error as err:\n",
    "        if err.errno == errorcode.ER_ACCESS_DENIED_ERROR:\n",
    "            print(\"Something is wrong with your usrname or password\")\n",
    "        elif err.errno == errorcode.ER_BAD_DB_ERROR:\n",
    "            print(\"Database does not exist\")\n",
    "        else:\n",
    "            print(err)\n",
    "    else:\n",
    "        conn.close()\n",
    "        \n",
    "#create a table in the rhd_db database and give it a connection\n",
    "TABLES = {}\n",
    "TABLES['testing1'] = (\n",
    "    \"CREATE TABLE `testing1`(\"\n",
    "    \" `FILENAME` varchar(255) NOT NULL,\"\n",
    "    \" `VIEW` varchar(255) NOT NULL,\"\n",
    "    \" `COLOUR` varchar(255) NOT NULL,\"\n",
    "    \" `VALIDATE` varchar(255) NOT NULL,\"\n",
    "    \" `VIEW_OF_ECHO` varchar(255) NOT NULL,\"\n",
    "    \" `CONDITIONS` varchar(255) NOT NULL,\"\n",
    "    \" `SEVERITY` varchar(255) NOT NULL,\"\n",
    "    \" `TIMETAKEN` varchar(255) NOT NULL\"\n",
    "    \n",
    "    \") ENGINE=InnoDB\")\n",
    "\n",
    "def create_database(cursor):\n",
    "    try:\n",
    "        cursor.execute(\n",
    "            \"CREATE DATABASE {} \".format(DB_NAME))\n",
    "    except mysql.connector.Error as err:\n",
    "        print(\"Failed creating database: {}\".format(err))\n",
    "        exit(1)\n",
    "try:\n",
    "    cursor.execute(\"USE {}\".format(DB_NAME))\n",
    "except mysql.connector.Error as err:\n",
    "    print(\"Database does not exist.\".format(DB_NAME))\n",
    "    if err.errno == errorcode.ER_BAD_DB_ERROR:\n",
    "        create_database(cursor)\n",
    "        print(\"Database {} created successfully.\".format(DB_NAME))\n",
    "        conn.database = DB_NAME\n",
    "    else:\n",
    "        print(err)\n",
    "        exit()\n",
    "\n",
    "for table_name in TABLES:\n",
    "    table_description = TABLES[table_name]\n",
    "    try:\n",
    "        print(\"Creating table {}: \".format(table_name), end='')\n",
    "        cursor.execute(table_description)\n",
    "    except mysql.connector.Error as err:\n",
    "        if err.errno == errorcode.ER_TABLE_EXISTS_ERROR:\n",
    "            print(\"already exists.\")\n",
    "        else:\n",
    "            print(err.msg)\n",
    "    else:\n",
    "        print(\"OK\")\n",
    "\n",
    "cursor.close()\n",
    "conn.close()\n",
    "\n"
   ]
  },
  {
   "cell_type": "code",
   "execution_count": 32,
   "id": "chicken-bacon",
   "metadata": {},
   "outputs": [
    {
     "name": "stdout",
     "output_type": "stream",
     "text": [
      "Enter a number:2\n",
      "Data annotated successfuly\n"
     ]
    }
   ],
   "source": [
    "import mysql\n",
    "import mysql.connector\n",
    "from mysql.connector import errorcode\n",
    "from time import strftime\n",
    "import pandas as pd\n",
    "\n",
    "df = pd.read_csv('RHD-Data - ValidationSet.csv', encoding='utf-8')\n",
    "\n",
    "\n",
    "\n",
    "annotation = []\n",
    "\n",
    "for index, row in df.iterrows():\n",
    "    annotation.append((row['FILENAME'],' ',',',' ',row['VIEW'],' ',',',' ', row['COLOUR']))\n",
    "\n",
    "x = 0\n",
    "y = 0\n",
    "\n",
    "validation = ['Correct', 'NOT CORRECT']\n",
    "\n",
    "views = ['Parasternal long axis (PLAX)','Parasternal short axis(PSAX)','Apical Four Chamber(A4C)','Apical three chamber (A3C)','Apical two chamber(A2C)','Suprasternal(SSN)','Subcostal']\n",
    "\n",
    "conditions = ['Mitral Valve Regurgitation','Aortic Valve Regurgitation','Tricuspid Valve Regurgitation','Pulmonary Valve Regurgitation','Aortic Valve Stenosis','Mitral Valve Stenosis','Tricuspid Valve Stenosis','Pulmonary Valve Stenosis','Mitral Valve Prolapse','Not Applicable']\n",
    "\n",
    "severities = ['Normal','Borderline rhd','Definite rhd','Not Applicable']\n",
    "\n",
    "\n",
    "database = {'user' : 'user',\n",
    "            'host' : '127.0.0.1',\n",
    "            'port' : '3306', \n",
    "            'database' : 'testdb', \n",
    "            'password' : 'dsail2021'\n",
    "           }\n",
    "\n",
    "DB_NAME = 'testdb'\n",
    "\n",
    "save = input((\"Enter a number:\"))\n",
    "if save != None:\n",
    "    conn = mysql.connector.connect(**database)\n",
    "    cursor = conn.cursor()\n",
    "\n",
    "    current_time = strftime(\"%Y-%m-%d %H:%M:%S\")\n",
    "\n",
    "    add_annotation = \"\"\"INSERT INTO testing1 \n",
    "\n",
    "    (FILENAME, VIEW, COLOUR,VALIDATE,VIEW_OF_ECHO,CONDITIONS,SEVERITY,TIMETAKEN)\n",
    "    VALUES(%s,%s,%s,%s,%s,%s,%s,%s)\"\"\"\n",
    "\n",
    "    values = ((annotation[x][y]), (annotation[x][y+4]), (annotation[x][y+8]), (validation[0]), (views[0]), str((conditions[4],conditions[3])), (severities[3]), (current_time))\n",
    "\n",
    "    try:\n",
    "        cursor.execute(add_annotation,values)\n",
    "        print(\"Data annotated successfuly\")\n",
    "        conn.commit()\n",
    "    except:\n",
    "        conn.rollback()\n",
    "\n",
    "    cursor.close()\n",
    "    conn.close()\n",
    "\n",
    "\n",
    "\n",
    "\n",
    "       "
   ]
  },
  {
   "cell_type": "code",
   "execution_count": 29,
   "id": "stable-introduction",
   "metadata": {},
   "outputs": [
    {
     "data": {
      "text/plain": [
       "\"('Pulmonary Valve Regurgitation', 'Aortic Valve Stenosis')\""
      ]
     },
     "execution_count": 29,
     "metadata": {},
     "output_type": "execute_result"
    }
   ],
   "source": [
    "str((conditions[3], conditions[4]))"
   ]
  },
  {
   "cell_type": "code",
   "execution_count": 26,
   "id": "specified-conditions",
   "metadata": {},
   "outputs": [
    {
     "data": {
      "text/plain": [
       "'Aortic Valve Stenosis'"
      ]
     },
     "execution_count": 26,
     "metadata": {},
     "output_type": "execute_result"
    }
   ],
   "source": [
    "(conditions[4])"
   ]
  },
  {
   "cell_type": "code",
   "execution_count": null,
   "id": "alleged-spring",
   "metadata": {},
   "outputs": [],
   "source": []
  }
 ],
 "metadata": {
  "kernelspec": {
   "display_name": "Python 3",
   "language": "python",
   "name": "python3"
  },
  "language_info": {
   "codemirror_mode": {
    "name": "ipython",
    "version": 3
   },
   "file_extension": ".py",
   "mimetype": "text/x-python",
   "name": "python",
   "nbconvert_exporter": "python",
   "pygments_lexer": "ipython3",
   "version": "3.8.8"
  }
 },
 "nbformat": 4,
 "nbformat_minor": 5
}
