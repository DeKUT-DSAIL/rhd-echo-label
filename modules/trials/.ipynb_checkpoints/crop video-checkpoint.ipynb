{
 "cells": [
  {
   "cell_type": "code",
   "execution_count": null,
   "id": "liable-default",
   "metadata": {},
   "outputs": [],
   "source": [
    "import cv2\n",
    "import numpy as np\n",
    "\n",
    "cap = cv2.VideoCapture('C:/Users/user/Desktop/Validation-App/assets/static/10.33.21 hrs __[0005899].mp4')\n",
    "\n",
    "# (x, y, w, h) = cv2.boundingRect(c)\n",
    "# cv2.rectangle(frame, (x,y), (x+w, y+h), (0, 255, 0), 20)\n",
    "# roi = frame[y:y+h, x:x+w]\n",
    "\n",
    "while True:\n",
    "    ret, frame = cap.read()\n",
    "    # (height, width) = frame.shape[:2]\n",
    "    new = (0, 60, 764, 567)\n",
    "    cv2.imshow('Video', new)\n",
    "\n",
    "    if cv2.waitKey(1) == 27:\n",
    "        exit(0)"
   ]
  },
  {
   "cell_type": "code",
   "execution_count": 24,
   "id": "gross-complexity",
   "metadata": {
    "scrolled": true
   },
   "outputs": [
    {
     "ename": "SyntaxError",
     "evalue": "'break' outside loop (<ipython-input-24-373da86621b5>, line 49)",
     "output_type": "error",
     "traceback": [
      "\u001b[1;36m  File \u001b[1;32m\"<ipython-input-24-373da86621b5>\"\u001b[1;36m, line \u001b[1;32m49\u001b[0m\n\u001b[1;33m    break\u001b[0m\n\u001b[1;37m    ^\u001b[0m\n\u001b[1;31mSyntaxError\u001b[0m\u001b[1;31m:\u001b[0m 'break' outside loop\n"
     ]
    }
   ],
   "source": [
    "import cv2\n",
    "import numpy as np\n",
    "\n",
    "pos = []\n",
    "global pts1\n",
    "def mouse_drawing(event, x, y, flags, params):\n",
    "    if event == cv2.EVENT_LBUTTONDOWN:\n",
    "        circles.append((x, y))\n",
    "        pos.append([x, y])\n",
    "        print(pos)\n",
    "\n",
    "\n",
    "def draw ():\n",
    "    pts1 = np.float32([pos[0], pos[1], pos[2], pos[3]])\n",
    "    pts2 = np.float32([[0, 0], [576, 0], [0, 704], [576, 704]])\n",
    "    matrix = cv2.getPerspectiveTransform(pts1, pts2)\n",
    "    result = cv2.warpPerspective(frame, matrix, (576, 704))\n",
    "    cv2.imshow(\"pres\", result)\n",
    "\n",
    "\n",
    "cap = cv2.VideoCapture('C:/Users/user/Desktop/Validation-App/assets/static/10.33.21 hrs __[0005899].mp4')\n",
    "\n",
    "cv2.namedWindow(\"Frame\")\n",
    "cv2.setMouseCallback(\"Frame\", mouse_drawing)\n",
    "circles = []\n",
    "#camera_matrix = np.eye(3, 3, 0, float, 'F')\n",
    "#dist_coeffi = np.zeros((1,5), float, 'F')\n",
    "camera_matrix = np.array([[594.42385933,  0, 278.82680292],\n",
    "                           [ 0, 409.03779744, 364.68900831],\n",
    "                            [ 0, 0, 1]], dtype='float64')\n",
    "dist_coeffi = np.array([-0.21770742, 0.01302767, 0.00908937, 0.00659773, 0.04729608], dtype='float64')\n",
    "\n",
    "\n",
    "\n",
    "_, frame = cap.read()\n",
    "h, w = frame.shape[:2]\n",
    "frame = cv2.undistort(frame, camera_matrix, dist_coeffi, None, None)\n",
    "for center_position in circles:\n",
    "    cv2.circle(frame, center_position, 5, (0, 0, 255), -1)\n",
    "\n",
    "cv2.imshow(\"Frame\", frame)\n",
    "\n",
    "\n",
    "if len(pos) == 4:\n",
    "    draw()\n",
    "\n",
    "key = cv2.waitKey(1)\n",
    "    if key == 27:\n",
    "        break\n",
    "    elif key == ord(\"d\"):\n",
    "        circles = []\n",
    "\n",
    "cap.release()\n",
    "cv2.destroyAllWindows()"
   ]
  },
  {
   "cell_type": "code",
   "execution_count": 23,
   "id": "breathing-acquisition",
   "metadata": {},
   "outputs": [
    {
     "ename": "AttributeError",
     "evalue": "'NoneType' object has no attribute 'shape'",
     "output_type": "error",
     "traceback": [
      "\u001b[1;31m---------------------------------------------------------------------------\u001b[0m",
      "\u001b[1;31mAttributeError\u001b[0m                            Traceback (most recent call last)",
      "\u001b[1;32m<ipython-input-23-72ade5553d57>\u001b[0m in \u001b[0;36m<module>\u001b[1;34m\u001b[0m\n\u001b[0;32m      7\u001b[0m \u001b[1;32mwhile\u001b[0m \u001b[1;32mTrue\u001b[0m\u001b[1;33m:\u001b[0m\u001b[1;33m\u001b[0m\u001b[1;33m\u001b[0m\u001b[0m\n\u001b[0;32m      8\u001b[0m     \u001b[0m_\u001b[0m\u001b[1;33m,\u001b[0m \u001b[0mframe\u001b[0m \u001b[1;33m=\u001b[0m \u001b[0mcap\u001b[0m\u001b[1;33m.\u001b[0m\u001b[0mread\u001b[0m\u001b[1;33m(\u001b[0m\u001b[1;33m)\u001b[0m\u001b[1;33m\u001b[0m\u001b[1;33m\u001b[0m\u001b[0m\n\u001b[1;32m----> 9\u001b[1;33m     \u001b[0mh\u001b[0m\u001b[1;33m,\u001b[0m \u001b[0mw\u001b[0m \u001b[1;33m=\u001b[0m \u001b[0mframe\u001b[0m\u001b[1;33m.\u001b[0m\u001b[0mshape\u001b[0m\u001b[1;33m[\u001b[0m\u001b[1;33m:\u001b[0m\u001b[1;36m2\u001b[0m\u001b[1;33m]\u001b[0m\u001b[1;33m\u001b[0m\u001b[1;33m\u001b[0m\u001b[0m\n\u001b[0m\u001b[0;32m     10\u001b[0m     \u001b[0mframe\u001b[0m \u001b[1;33m=\u001b[0m \u001b[0mcv2\u001b[0m\u001b[1;33m.\u001b[0m\u001b[0mundistort\u001b[0m\u001b[1;33m(\u001b[0m\u001b[0mframe\u001b[0m\u001b[1;33m,\u001b[0m \u001b[0mcamera_matrix\u001b[0m\u001b[1;33m,\u001b[0m \u001b[0mdist_coeffi\u001b[0m\u001b[1;33m,\u001b[0m \u001b[1;32mNone\u001b[0m\u001b[1;33m,\u001b[0m \u001b[1;32mNone\u001b[0m\u001b[1;33m)\u001b[0m\u001b[1;33m\u001b[0m\u001b[1;33m\u001b[0m\u001b[0m\n\u001b[0;32m     11\u001b[0m     \u001b[1;32mfor\u001b[0m \u001b[0mcenter_position\u001b[0m \u001b[1;32min\u001b[0m \u001b[0mcircles\u001b[0m\u001b[1;33m:\u001b[0m\u001b[1;33m\u001b[0m\u001b[1;33m\u001b[0m\u001b[0m\n",
      "\u001b[1;31mAttributeError\u001b[0m: 'NoneType' object has no attribute 'shape'"
     ]
    }
   ],
   "source": [
    "import cv2\n",
    "import numpy as np\n",
    "\n",
    "\n",
    "cap = cv2.VideoCapture('C:/Users/user/Desktop/Validation-App/assets/static/10.33.21 hrs __[0005899].mp4')\n",
    "\n",
    "\n",
    "_, frame = cap.read()\n",
    "h, w = frame.shape[:2]\n",
    "frame = cv2.undistort(frame, camera_matrix, dist_coeffi, None, None)\n",
    "for center_position in circles:\n",
    "        cv2.circle(frame, center_position, 5, (0, 0, 255), -1)\n",
    "    \n",
    "\n",
    "cv2.imshow(\"Frame\", frame)"
   ]
  },
  {
   "cell_type": "code",
   "execution_count": null,
   "id": "stuck-division",
   "metadata": {},
   "outputs": [],
   "source": []
  }
 ],
 "metadata": {
  "kernelspec": {
   "display_name": "Python 3",
   "language": "python",
   "name": "python3"
  },
  "language_info": {
   "codemirror_mode": {
    "name": "ipython",
    "version": 3
   },
   "file_extension": ".py",
   "mimetype": "text/x-python",
   "name": "python",
   "nbconvert_exporter": "python",
   "pygments_lexer": "ipython3",
   "version": "3.8.8"
  }
 },
 "nbformat": 4,
 "nbformat_minor": 5
}
