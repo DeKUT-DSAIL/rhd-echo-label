{
 "cells": [
  {
   "cell_type": "code",
   "execution_count": 44,
   "id": "solid-physics",
   "metadata": {},
   "outputs": [
    {
     "name": "stdout",
     "output_type": "stream",
     "text": [
      "10.38.47 hrs __[0005903].jpeg\n"
     ]
    },
    {
     "data": {
      "application/javascript": [
       "\n",
       "        if (window._pyforest_update_imports_cell) { window._pyforest_update_imports_cell('import pandas as pd'); }\n",
       "    "
      ],
      "text/plain": [
       "<IPython.core.display.Javascript object>"
      ]
     },
     "metadata": {},
     "output_type": "display_data"
    },
    {
     "data": {
      "application/javascript": [
       "\n",
       "        if (window._pyforest_update_imports_cell) { window._pyforest_update_imports_cell('import pandas as pd'); }\n",
       "    "
      ],
      "text/plain": [
       "<IPython.core.display.Javascript object>"
      ]
     },
     "metadata": {},
     "output_type": "display_data"
    },
    {
     "name": "stdout",
     "output_type": "stream",
     "text": [
      "[('10.38.47 hrs __[0005903].jpeg', 'PLAX', 'NO COLOUR'), ('10.40.10 hrs __[0005906].jpeg', 'PLAX', 'COLOUR'), ('10.41.54 hrs __[0005913].jpeg', 'PLAX', 'COLOUR'), ('10.42.42 hrs __[0005916].jpeg', \"CAN'T TELL\", 'NO COLOUR'), ('10.44.47 hrs __[0005918].jpeg', 'NOT PLAX', 'NO COLOUR'), ('10.45.20 hrs __[0005920].jpeg', 'NOT PLAX', 'COLOUR'), ('10.46.03 hrs __[0005921].jpeg', 'NOT PLAX', 'COLOUR'), ('10.47.26 hrs __[0005922].jpeg', 'NOT PLAX', 'COLOUR'), ('10.47.58 hrs __[0005923].jpeg', 'NOT PLAX', 'NO COLOUR'), ('10.48.44 hrs __[0005924].jpeg', 'NOT PLAX', 'NO COLOUR'), ('10.49.43 hrs __[0005925].jpeg', 'NOT PLAX', 'NO COLOUR'), ('10.49.58 hrs __[0005926].jpeg', 'NOT PLAX', 'NO COLOUR'), ('10.50.45 hrs __[0005928].jpeg', 'NOT PLAX', 'NO COLOUR'), ('10.52.13 hrs __[0005932].jpeg', \"CAN'T TELL\", 'NO COLOUR'), ('11.26.05 hrs __[0009589].jpeg', \"CAN'T TELL\", 'NO COLOUR'), ('12.14.30 hrs __[0006032].jpeg', 'PLAX', 'NO COLOUR'), ('12.16.35 hrs __[0006033].jpeg', 'PLAX', 'NO COLOUR'), ('12.17.46 hrs __[0006034].jpeg', 'PLAX', 'NO COLOUR'), ('12.20.36 hrs __[0006045].jpeg', 'NOT PLAX', 'COLOUR'), ('12.30.48 hrs __[0006067].jpeg', \"CAN'T TELL\", 'NO COLOUR'), ('13.01.42 hrs __[0009718].jpeg', \"CAN'T TELL\", 'NO COLOUR'), ('Blue_11_image__116.jpeg', \"CAN'T TELL\", 'NO COLOUR'), ('Blue_11_image__136.jpeg', \"CAN'T TELL\", 'NO COLOUR'), ('Blue_11_image__168.jpeg', 'NOT PLAX', 'COLOUR'), ('Blue_11_image__172.jpeg', 'PLAX', 'COLOUR'), ('Blue_11_image__173.jpeg', 'PLAX', 'COLOUR'), ('Blue_11_image__174.jpeg', 'PLAX', 'COLOUR'), ('Blue_11_image__175.jpeg', \"CAN'T TELL\", 'NO COLOUR'), ('Blue_11_image__176.jpeg', 'NOT PLAX', 'NO COLOUR'), ('Blue_11_image__177.jpeg', 'NOT PLAX', 'NO COLOUR'), ('Blue_11_image__96.jpeg', \"CAN'T TELL\", 'NO COLOUR'), ('Blue_11_video__0.jpeg', 'PLAX', 'NO COLOUR'), ('Blue_11_video__1.jpeg', 'NOT PLAX', 'NO COLOUR'), ('Blue_11_video__2_18.jpeg', 'PLAX', 'COLOUR'), ('Blue_11_video__3_22.jpeg', 'PLAX', 'COLOUR'), ('Blue_11_video__5_30.jpeg', 'NOT PLAX', 'NO COLOUR'), ('Blue_11_video__6.jpeg', \"CAN'T TELL\", 'NO COLOUR'), ('Blue_1_image__20.jpeg', 'NOT PLAX', 'COLOUR'), ('Blue_1_image__21.jpeg', 'NOT PLAX', 'NO COLOUR'), ('Blue_1_image__22.jpeg', 'NOT PLAX', 'NO COLOUR'), ('Blue_1_image__23.jpeg', 'NOT PLAX', 'COLOUR'), ('Blue_1_image__24.jpeg', 'NOT PLAX', 'COLOUR'), ('Blue_1_image__25.jpeg', 'NOT PLAX', 'COLOUR'), ('Blue_1_image__26.jpeg', 'NOT PLAX', 'COLOUR'), ('Blue_1_image__3.jpeg', \"CAN'T TELL\", 'COLOUR'), ('Blue_1_image__4.jpeg', \"CAN'T TELL\", 'NO COLOUR'), ('Blue_1_image__40.jpeg', \"CAN'T TELL\", 'COLOUR'), ('Blue_1_image__42.jpeg', \"CAN'T TELL\", 'NO COLOUR'), ('Blue_1_image__60.jpeg', 'PLAX', 'COLOUR'), ('Blue_1_image__61.jpeg', 'PLAX', 'COLOUR'), ('Blue_1_image__63.jpeg', 'PLAX', 'NO COLOUR'), ('Blue_1_image__66.jpeg', \"CAN'T TELL\", 'NO COLOUR'), ('Blue_1_image__68.jpeg', 'PLAX', 'COLOUR'), ('Blue_1_image__77.jpeg', 'PLAX', 'NO COLOUR'), ('Blue_2_image__101.jpeg', \"CAN'T TELL\", 'COLOUR'), ('Blue_2_image__12.jpeg', 'NOT PLAX', 'COLOUR'), ('Blue_2_image__16.jpeg', \"CAN'T TELL\", 'COLOUR'), ('Blue_2_image__164.jpeg', 'PLAX', 'NO COLOUR'), ('Blue_2_image__168.jpeg', 'PLAX', 'COLOUR'), ('Blue_2_image__169.jpeg', \"CAN'T TELL\", 'NO COLOUR'), ('Blue_2_image__17.jpeg', 'PLAX', 'COLOUR'), ('Blue_2_image__170.jpeg', 'PLAX', 'COLOUR'), ('Blue_2_image__171.jpeg', 'PLAX', 'COLOUR'), ('Blue_2_image__172.jpeg', \"CAN'T TELL\", 'NO COLOUR'), ('Blue_2_image__173.jpeg', \"CAN'T TELL\", 'NO COLOUR'), ('Blue_2_image__18.jpeg', 'NOT PLAX', 'NO COLOUR'), ('Blue_2_image__19.jpeg', 'NOT PLAX', 'NO COLOUR'), ('Blue_2_image__20.jpeg', 'NOT PLAX', 'COLOUR'), ('Blue_2_image__21.jpeg', 'NOT PLAX', 'COLOUR'), ('Blue_2_image__22.jpeg', 'NOT PLAX', 'NO COLOUR'), ('Blue_2_image__23.jpeg', 'NOT PLAX', 'COLOUR'), ('Blue_2_image__7.jpeg', 'NOT PLAX', 'COLOUR'), ('Blue_2_image__8.jpeg', 'NOT PLAX', 'COLOUR'), ('Blue_2_video__0_32.jpeg', 'PLAX', 'NO COLOUR'), ('Blue_3_image__177.jpeg', 'PLAX', 'COLOUR'), ('Blue_3_image__178.jpeg', 'PLAX', 'COLOUR'), ('Blue_3_image__179.jpeg', 'PLAX', 'COLOUR'), ('Blue_3_image__180.jpeg', 'PLAX', 'NO COLOUR'), ('Blue_3_image__181.jpeg', 'NOT PLAX', 'NO COLOUR'), ('Blue_3_image__182.jpeg', 'NOT PLAX', 'NO COLOUR'), ('Blue_3_image__21.jpeg', \"CAN'T TELL\", 'NO COLOUR'), ('Blue_3_image__22.jpeg', \"CAN'T TELL\", 'NO COLOUR'), ('Blue_3_image__41.jpeg', \"CAN'T TELL\", 'NO COLOUR'), ('Blue_3_image__91.jpeg', \"CAN'T TELL\", 'COLOUR'), ('Blue_3_video__0.jpeg', 'PLAX', 'NO COLOUR'), ('Blue_3_video__1.jpeg', 'NOT PLAX', 'NO COLOUR'), ('Blue_3_video__2.jpeg', 'PLAX', 'COLOUR'), ('Blue_3_video__5.jpeg', 'NOT PLAX', 'NO COLOUR'), ('Blue_3_video__6.jpeg', 'NOT PLAX', 'NO COLOUR'), ('Blue_3_video__7.jpeg', 'NOT PLAX', 'NO COLOUR'), ('Blue_6_image__119.jpeg', \"CAN'T TELL\", 'NO COLOUR'), ('Blue_6_image__120.jpeg', \"CAN'T TELL\", 'NO COLOUR'), ('Blue_6_image__149.jpeg', 'NOT PLAX', 'NO COLOUR'), ('Blue_6_image__150.jpeg', 'NOT PLAX', 'NO COLOUR'), ('Blue_6_image__154.jpeg', 'PLAX', 'COLOUR'), ('Blue_6_image__155.jpeg', 'PLAX', 'COLOUR'), ('Blue_6_image__156.jpeg', 'PLAX', 'COLOUR'), ('Blue_6_image__157.jpeg', \"CAN'T TELL\", 'NO COLOUR'), ('Blue_6_image__158.jpeg', \"CAN'T TELL\", 'NO COLOUR'), ('Blue_6_image__159.jpeg', 'NOT PLAX', 'NO COLOUR'), ('Blue_6_video__0.jpeg', 'PLAX', 'COLOUR'), ('Blue_6_video__1.jpeg', 'NOT PLAX', 'NO COLOUR'), ('Blue_6_video__4.jpeg', 'NOT PLAX', 'NO COLOUR'), ('Blue_6_video__5.jpeg', 'NOT PLAX', 'NO COLOUR')]\n"
     ]
    }
   ],
   "source": [
    "import csv\n",
    "import PIL\n",
    "import os\n",
    "import numpy as np\n",
    "\n",
    "\n",
    "image_path = './assets/static/images'\n",
    "\n",
    "img = os.listdir(image_path)\n",
    "#print(img[0])\n",
    "\n",
    "file = pd.read_csv('RHD-Data - ValidationSet.csv')\n",
    "csv_list = []\n",
    "df = pd.DataFrame(file)\n",
    "for row_index, row in df.iterrows():\n",
    "    csv_list.append((row['FILENAME'], row['VIEW'], row['COLOUR']))\n",
    "\n",
    "#print(csv_list)\n",
    "\n",
    "image_name = input('Enter name of image: ')\n",
    "for item in csv_list:\n",
    "    if item[0] == image_name:\n",
    "        print(item)"
   ]
  },
  {
   "cell_type": "code",
   "execution_count": 49,
   "id": "reserved-saint",
   "metadata": {},
   "outputs": [
    {
     "name": "stdout",
     "output_type": "stream",
     "text": [
      "Enter name of image: Blue_6_video__5.jpeg\n",
      "('Blue_6_video__5.jpeg', 'NOT PLAX', 'NO COLOUR')\n"
     ]
    }
   ],
   "source": []
  },
  {
   "cell_type": "code",
   "execution_count": null,
   "id": "balanced-wealth",
   "metadata": {},
   "outputs": [],
   "source": []
  }
 ],
 "metadata": {
  "kernelspec": {
   "display_name": "Python 3",
   "language": "python",
   "name": "python3"
  },
  "language_info": {
   "codemirror_mode": {
    "name": "ipython",
    "version": 3
   },
   "file_extension": ".py",
   "mimetype": "text/x-python",
   "name": "python",
   "nbconvert_exporter": "python",
   "pygments_lexer": "ipython3",
   "version": "3.8.8"
  }
 },
 "nbformat": 4,
 "nbformat_minor": 5
}
