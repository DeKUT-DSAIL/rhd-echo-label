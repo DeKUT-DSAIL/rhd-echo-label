{
 "cells": [
  {
   "cell_type": "code",
   "execution_count": null,
   "id": "blessed-august",
   "metadata": {},
   "outputs": [],
   "source": [
    "import pandas as pd\n",
    "\n",
    "\n",
    "#x = 0\n",
    "\n",
    "#currentann = ''\n",
    "\n",
    "annotation = []\n",
    "df = pd.read_csv('RHD-Data - ValidationSet.csv')\n",
    "for row_index, row in df.iterrows():\n",
    "    annotation.append((row_index,row['FILENAME'],row['VIEW'], row['COLOUR']))\n",
    "\n",
    "    print(annotation)\n",
    "    "
   ]
  },
  {
   "cell_type": "code",
   "execution_count": null,
   "id": "flying-given",
   "metadata": {},
   "outputs": [],
   "source": [
    "num_images = len(annotation)\n",
    "print(num_images)\n",
    "\n",
    "image_state = annotation.index(annotation[x])\n",
    "print(image_state)"
   ]
  },
  {
   "cell_type": "code",
   "execution_count": null,
   "id": "uniform-institute",
   "metadata": {},
   "outputs": [],
   "source": [
    "annotation\n"
   ]
  },
  {
   "cell_type": "code",
   "execution_count": null,
   "id": "painful-values",
   "metadata": {},
   "outputs": [],
   "source": []
  }
 ],
 "metadata": {
  "kernelspec": {
   "display_name": "Python 3",
   "language": "python",
   "name": "python3"
  },
  "language_info": {
   "codemirror_mode": {
    "name": "ipython",
    "version": 3
   },
   "file_extension": ".py",
   "mimetype": "text/x-python",
   "name": "python",
   "nbconvert_exporter": "python",
   "pygments_lexer": "ipython3",
   "version": "3.8.8"
  }
 },
 "nbformat": 4,
 "nbformat_minor": 5
}
