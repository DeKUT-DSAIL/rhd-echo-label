{
 "cells": [
  {
   "cell_type": "code",
   "execution_count": 11,
   "id": "northern-speaker",
   "metadata": {},
   "outputs": [],
   "source": [
    "from google.cloud import storage\n",
    "import google.cloud.storage\n",
    "import os\n"
   ]
  },
  {
   "cell_type": "code",
   "execution_count": 26,
   "id": "smart-wilderness",
   "metadata": {},
   "outputs": [],
   "source": [
    "os.environ['GOOGLE_APPLICATION_CREDENTIALS'] = 'rhd-imaging-325212-89c18efb8640.json'\n",
    "\n",
    "storage_client = storage.Client()"
   ]
  },
  {
   "cell_type": "code",
   "execution_count": 33,
   "id": "settled-afternoon",
   "metadata": {},
   "outputs": [],
   "source": [
    "import sys\n",
    "\n",
    "imagelist = []\n",
    "def list_blobs(bucket_name):\n",
    "    \"\"\"Lists all the blobs in the bucket.\"\"\"\n",
    "    bucket_name = \"rhd_imaging_data\"\n",
    "\n",
    "    # Note: Client.list_blobs requires at least package version 1.17.0.\n",
    "    blobs = storage_client.list_blobs(bucket_name)\n",
    "\n",
    "    for blob in blobs:\n",
    "        imagelist.append(blob.name)\n",
    "        #print(blob.name)\n",
    "if __name__ == \"__main__\":\n",
    "    (list_blobs(bucket_name))\n",
    "    "
   ]
  },
  {
   "cell_type": "code",
   "execution_count": 35,
   "id": "opened-paraguay",
   "metadata": {},
   "outputs": [
    {
     "data": {
      "text/plain": [
       "1792"
      ]
     },
     "execution_count": 35,
     "metadata": {},
     "output_type": "execute_result"
    }
   ],
   "source": [
    "len(imagelist)"
   ]
  },
  {
   "cell_type": "code",
   "execution_count": 36,
   "id": "worst-matrix",
   "metadata": {},
   "outputs": [
    {
     "data": {
      "text/plain": [
       "'10.33.21 hrs __[0005899].mp4'"
      ]
     },
     "execution_count": 36,
     "metadata": {},
     "output_type": "execute_result"
    }
   ],
   "source": [
    "imagelist[0]"
   ]
  },
  {
   "cell_type": "code",
   "execution_count": 37,
   "id": "alpha-demonstration",
   "metadata": {},
   "outputs": [
    {
     "data": {
      "text/plain": [
       "'10.33.21 hrs __[0005899].mp4'"
      ]
     },
     "execution_count": 37,
     "metadata": {},
     "output_type": "execute_result"
    }
   ],
   "source": [
    "x = 0\n",
    "imagelist[x]"
   ]
  },
  {
   "cell_type": "code",
   "execution_count": null,
   "id": "tamil-diesel",
   "metadata": {},
   "outputs": [],
   "source": []
  }
 ],
 "metadata": {
  "kernelspec": {
   "display_name": "Python 3",
   "language": "python",
   "name": "python3"
  },
  "language_info": {
   "codemirror_mode": {
    "name": "ipython",
    "version": 3
   },
   "file_extension": ".py",
   "mimetype": "text/x-python",
   "name": "python",
   "nbconvert_exporter": "python",
   "pygments_lexer": "ipython3",
   "version": "3.8.8"
  }
 },
 "nbformat": 4,
 "nbformat_minor": 5
}
